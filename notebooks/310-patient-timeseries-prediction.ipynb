version https://git-lfs.github.com/spec/v1
oid sha256:341bbbba2902d010e46875527db1caa89b8b0f395b9dadea67fc7a1bc7f31d72
size 1379905
