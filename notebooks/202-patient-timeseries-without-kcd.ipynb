version https://git-lfs.github.com/spec/v1
oid sha256:6c97173ef2cdf6d0a3d840d6e14362023dedf8f81c8fbe2ee4c8376d9b89d379
size 20615
